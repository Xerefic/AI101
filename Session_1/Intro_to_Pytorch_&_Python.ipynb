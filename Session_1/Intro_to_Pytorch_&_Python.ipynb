{
  "nbformat": 4,
  "nbformat_minor": 0,
  "metadata": {
    "colab": {
      "name": "Intro to Pytorch & Python.ipynb",
      "provenance": [],
      "collapsed_sections": []
    },
    "kernelspec": {
      "name": "python3",
      "display_name": "Python 3"
    },
    "language_info": {
      "name": "python"
    },
    "accelerator": "GPU"
  },
  "cells": [
    {
      "cell_type": "markdown",
      "source": [
        "# Welcome!\n",
        "\n",
        "Welcome to the first session organized by Analytics Club, CFI!"
      ],
      "metadata": {
        "id": "mjAoU1rqIdCB"
      }
    },
    {
      "cell_type": "markdown",
      "metadata": {
        "id": "ZsUCAJztQt78"
      },
      "source": [
        "## Today's Content\n",
        "\n",
        "- Python\n",
        "    - Conditional Statements\n",
        "    - Loops\n",
        "    - Functions\n",
        "    - Classes\n",
        "- Pytorch\n",
        "- Linear Regression"
      ]
    },
    {
      "cell_type": "markdown",
      "metadata": {
        "id": "qKka7WiIQ6SP"
      },
      "source": [
        "---"
      ]
    },
    {
      "cell_type": "code",
      "source": [
        ""
      ],
      "metadata": {
        "id": "EZfQ_nKmrLpw"
      },
      "execution_count": null,
      "outputs": []
    },
    {
      "cell_type": "markdown",
      "metadata": {
        "id": "Tc_HVXnkuIcd"
      },
      "source": [
        "# Data Types\n",
        "\n",
        "* Variables are classified using data types. Each data type gives a variable different properties.\n",
        "\n",
        "* Unlike some high-level programming languages, there is no necessity to specify the data type in python. It automatically classifies the variable according to its content\n",
        "\n",
        "* Using data types lets us know what is expected from each variable, and each data type behaves uniquely.\n",
        "\n",
        "\n",
        "\n",
        "The most commonly used data types are :\n",
        "\n",
        "* Numeric: \n",
        "    * int       (integers)\n",
        "    * float     (decimal values)\n",
        "\n",
        "* strings    (characters, words and sentences)\n",
        "\n",
        "* bool       (boolean values, i.e. True or False)\n",
        "\n",
        "* Sequential Data Types (Structures):\n",
        "    * list\n",
        "    * tuple\n",
        "    * range \n",
        "\n",
        "* Structured Data Structures:\n",
        "    * set        (Sets)\n",
        "    * dict       (Dictionaries)\n"
      ]
    },
    {
      "cell_type": "markdown",
      "metadata": {
        "id": "t8iQ0iFwuoDM"
      },
      "source": [
        "## Numeric\n",
        "\n",
        "* int       (integers)\n",
        "* float     (decimal values)"
      ]
    },
    {
      "cell_type": "code",
      "metadata": {
        "id": "S6LMoEyut5FV"
      },
      "source": [
        "x = 10\n",
        "\n",
        "print(x)\n",
        "print(\"Type of x: \", type(x))"
      ],
      "execution_count": null,
      "outputs": []
    },
    {
      "cell_type": "code",
      "metadata": {
        "id": "jz3pNmJ_uxYq"
      },
      "source": [
        "y = 10.58\n",
        "\n",
        "print(y)\n",
        "print(\"Type of y: \", type(y))"
      ],
      "execution_count": null,
      "outputs": []
    },
    {
      "cell_type": "markdown",
      "metadata": {
        "id": "W5_JELQZvdc8"
      },
      "source": [
        "### Arithmetic Operators\n",
        "\n",
        "1. Addition (+)\n",
        "2. Subtraction (-)\n",
        "3. Multiplication (*)\n",
        "4. Division (/)\n",
        "5. Modulus(%)\n",
        "6. Exponent(**)\n",
        "\n"
      ]
    },
    {
      "cell_type": "code",
      "metadata": {
        "id": "6zDD15a7vcGh"
      },
      "source": [
        "a = 58\n",
        "b = 6\n",
        "\n",
        "print('a Plus b = ', a + b)\n",
        "print('b Minus a = ', a - b)\n",
        "print('a Times b=', a * b)\n",
        "print('a Divided by b = ', a//b)\n",
        "print('a Modulo b = ', a%b)\n",
        "print('a Squared = ', a**2 )"
      ],
      "execution_count": null,
      "outputs": []
    },
    {
      "cell_type": "markdown",
      "metadata": {
        "id": "WvG9lJT-vymp"
      },
      "source": [
        "Auto conversion from one data type to another. \\\\\n",
        "\n",
        "Usually, type conversion takes place from a lower type to a higher type. For example **int** to **float**"
      ]
    },
    {
      "cell_type": "code",
      "metadata": {
        "id": "UrflUClyu5k2"
      },
      "source": [
        "z = x + y\n",
        "\n",
        "print(z)\n",
        "print(\"Type of z: \", type(z))"
      ],
      "execution_count": null,
      "outputs": []
    },
    {
      "cell_type": "markdown",
      "metadata": {
        "id": "yaOzQVIvwI_d"
      },
      "source": [
        "###Comparison Operators\n",
        "\n",
        "1.    Check equality (== )\n",
        "2.    Check inequality(!= or <>)\n",
        "3.    Greater than (>)\n",
        "4.    Less than(<)\n",
        "5.    Greater than or equal to (>=)\n",
        "6.    Less than or equal to (<=)\n",
        "\n",
        "When used in expressions,  the truth value of the expression returned. \n"
      ]
    },
    {
      "cell_type": "code",
      "metadata": {
        "id": "1lhpFfcswJ4s"
      },
      "source": [
        "a = 5\n",
        "b = 6\n",
        "\n",
        "print(\"Is a equal to b ? \", a==b)\n",
        "print(\"Is a not equal to b ? \", a!=b)\n",
        "print(\"Is a greater than b? \", a>b)\n",
        "print(\"Is a less than b? ? \", a<b)\n",
        "print(\"Is a greater than or equal to b? \", a>=b)\n",
        "print(\"Is a less than or equal to b? \", a<=b)"
      ],
      "execution_count": null,
      "outputs": []
    },
    {
      "cell_type": "markdown",
      "metadata": {
        "id": "JkXznJVfw8uV"
      },
      "source": [
        "## String\n",
        "\n",
        "* characters\n",
        "* words\n",
        "* sentences\n",
        "\n",
        "In python, all the three mentioned can be stored in a single data type called string."
      ]
    },
    {
      "cell_type": "code",
      "metadata": {
        "id": "QYUoSgTgwL5v"
      },
      "source": [
        "s = \"abc\"\n",
        "\n",
        "print(s)\n",
        "print(type(s))"
      ],
      "execution_count": null,
      "outputs": []
    },
    {
      "cell_type": "code",
      "metadata": {
        "id": "_SOMbnbkxRq0"
      },
      "source": [
        "s = 'India'\n",
        "\n",
        "print(s)\n",
        "print(type(s))"
      ],
      "execution_count": null,
      "outputs": []
    },
    {
      "cell_type": "code",
      "metadata": {
        "id": "wJ8mWp-wxVCi"
      },
      "source": [
        "s = \"Welcome to Analytics Club\"\n",
        "\n",
        "print(s)\n",
        "print(type(s))"
      ],
      "execution_count": null,
      "outputs": []
    },
    {
      "cell_type": "code",
      "metadata": {
        "id": "IFLkjNPJhMJW"
      },
      "source": [
        "print(\"Statement\")"
      ],
      "execution_count": null,
      "outputs": []
    },
    {
      "cell_type": "markdown",
      "metadata": {
        "id": "6EeNqAMcxgzy"
      },
      "source": [
        "### String Concatenation\n",
        "\n",
        "Like numbers, two strings can be added. The resultant is nothing but the two strings put back to back."
      ]
    },
    {
      "cell_type": "code",
      "metadata": {
        "id": "0Iz9HkeQxbUz"
      },
      "source": [
        "s1 = \"This is to show \"\n",
        "s2 = \"that two strings can be added together.\"\n",
        "\n",
        "print(s1+s2)"
      ],
      "execution_count": null,
      "outputs": []
    },
    {
      "cell_type": "code",
      "metadata": {
        "id": "7cv6Z9I2xv70"
      },
      "source": [
        "s1 = \"What happens when we \"\n",
        "s2 = \"subtract two strings?\"\n",
        "\n",
        "print(s1-s2)"
      ],
      "execution_count": null,
      "outputs": []
    },
    {
      "cell_type": "markdown",
      "metadata": {
        "id": "JJR7D_ylq3jX"
      },
      "source": [
        "### Split and Strip"
      ]
    },
    {
      "cell_type": "code",
      "metadata": {
        "id": "MLHjgF2nq6XY"
      },
      "source": [
        "s1 = \"What happens when we                        \"\n",
        "s2 = \"    subtract two strings?\""
      ],
      "execution_count": null,
      "outputs": []
    },
    {
      "cell_type": "code",
      "metadata": {
        "id": "6QkJNrhDh1T6"
      },
      "source": [
        "s1.strip().split(\"happens\")"
      ],
      "execution_count": null,
      "outputs": []
    },
    {
      "cell_type": "code",
      "metadata": {
        "id": "v8kVbkbNq-Ge"
      },
      "source": [
        "s1.strip()"
      ],
      "execution_count": null,
      "outputs": []
    },
    {
      "cell_type": "code",
      "metadata": {
        "id": "Rpsv8pp7q_zQ"
      },
      "source": [
        "s2.strip()"
      ],
      "execution_count": null,
      "outputs": []
    },
    {
      "cell_type": "markdown",
      "metadata": {
        "id": "4RzrxOuVrKIw"
      },
      "source": [
        "Get the individual text"
      ]
    },
    {
      "cell_type": "code",
      "metadata": {
        "id": "Gy323RijrGwj"
      },
      "source": [
        "s1.strip().split(\" \")"
      ],
      "execution_count": null,
      "outputs": []
    },
    {
      "cell_type": "markdown",
      "metadata": {
        "id": "nPmmCYmiyAb5"
      },
      "source": [
        "## Bool"
      ]
    },
    {
      "cell_type": "code",
      "metadata": {
        "id": "Lqdo4KCnxzUe"
      },
      "source": [
        "p = True\n",
        "\n",
        "print(p)\n",
        "print(type(p))"
      ],
      "execution_count": null,
      "outputs": []
    },
    {
      "cell_type": "code",
      "metadata": {
        "id": "qxwjw8MzyFAU"
      },
      "source": [
        "q = False\n",
        "\n",
        "print(q)\n",
        "print(type(q))"
      ],
      "execution_count": null,
      "outputs": []
    },
    {
      "cell_type": "markdown",
      "metadata": {
        "id": "2hLB0j85yPax"
      },
      "source": [
        "Basically in any programming language, \n",
        "* True is treated as 1\n",
        "* False is treated as 0"
      ]
    },
    {
      "cell_type": "code",
      "metadata": {
        "id": "7QuThzGIyOy4"
      },
      "source": [
        "print(\"p + q = \", p + q)\n",
        "print(\"p - q = \", p - q)\n",
        "print(\"p * q = \", p * q)"
      ],
      "execution_count": null,
      "outputs": []
    },
    {
      "cell_type": "markdown",
      "metadata": {
        "id": "jYf0bIYWyuz-"
      },
      "source": [
        "## Lists\n",
        "\n",
        "List is a collection of several variables, not necessarily of the same type."
      ]
    },
    {
      "cell_type": "code",
      "metadata": {
        "id": "DbJZ7ToNyL64"
      },
      "source": [
        "l = [0, 1, 2, 3, \"a\", \"b\", False]\n",
        "\n",
        "# Unlike other high-level programming languages, lists can be printed easily\n",
        "print(l)\n",
        "print(\"Length of List:\", len(l))\n",
        "print(type(l))"
      ],
      "execution_count": null,
      "outputs": []
    },
    {
      "cell_type": "markdown",
      "metadata": {
        "id": "0c_Ho-MYzdiu"
      },
      "source": [
        "Accessing the items in a list. The items are numbered starting from 0."
      ]
    },
    {
      "cell_type": "code",
      "metadata": {
        "id": "NS12tjZ1y-TA"
      },
      "source": [
        "print(l[0])\n",
        "print(type(l[0]))\n",
        "\n",
        "print(l[4])\n",
        "print(type(l[4]))"
      ],
      "execution_count": null,
      "outputs": []
    },
    {
      "cell_type": "code",
      "metadata": {
        "id": "fArVjVI2zs4C"
      },
      "source": [
        "# What do you think will happen if we pass a negative index?\n",
        "\n",
        "print(l[-3])\n",
        "print(type(l[-3]))"
      ],
      "execution_count": null,
      "outputs": []
    },
    {
      "cell_type": "markdown",
      "metadata": {
        "id": "c563KewqaFrb"
      },
      "source": [
        "Copying Lists"
      ]
    },
    {
      "cell_type": "code",
      "source": [
        "x = 5\n",
        "y = x\n",
        "\n",
        "print(y)"
      ],
      "metadata": {
        "id": "shYz25ieQZVR"
      },
      "execution_count": null,
      "outputs": []
    },
    {
      "cell_type": "code",
      "metadata": {
        "id": "S5mOYyfZaFW4"
      },
      "source": [
        "a = list(range(1, 11, 1))\n",
        "b = a\n",
        "\n",
        "b[4] = 25\n",
        "\n",
        "print('The array b: ', b)\n",
        "print('The array a: ', a)"
      ],
      "execution_count": null,
      "outputs": []
    },
    {
      "cell_type": "code",
      "metadata": {
        "id": "MXBQV9gIaYpk"
      },
      "source": [
        "a = list(range(1, 11, 1))\n",
        "b = a.copy()\n",
        "\n",
        "b[4] = 25\n",
        "\n",
        "print('The array b: ', b)\n",
        "print('The array a: ', a)"
      ],
      "execution_count": null,
      "outputs": []
    },
    {
      "cell_type": "code",
      "metadata": {
        "id": "haepsvuQaaLF"
      },
      "source": [
        "a = list(range(1, 11, 1))\n",
        "b = a[:]\n",
        "\n",
        "b[4] = 25\n",
        "\n",
        "print('The array b: ', b)\n",
        "print('The array a: ', a)"
      ],
      "execution_count": null,
      "outputs": []
    },
    {
      "cell_type": "markdown",
      "metadata": {
        "id": "-rXh3jszag3t"
      },
      "source": [
        "Reversing Lists"
      ]
    },
    {
      "cell_type": "code",
      "metadata": {
        "id": "FOKMLOCFaiA_"
      },
      "source": [
        "a = list(range(1, 26, 1))\n",
        "b = a[::-1]\n",
        "\n",
        "print('The array b: ', b)\n",
        "print('The array a: ', a)"
      ],
      "execution_count": null,
      "outputs": []
    },
    {
      "cell_type": "markdown",
      "metadata": {
        "id": "XrAliYIG-oAK"
      },
      "source": [
        "### Sorting"
      ]
    },
    {
      "cell_type": "code",
      "metadata": {
        "id": "DJVh8SOM-nh8"
      },
      "source": [
        "l = [37, 8, 54, 18, 23, 45, 76, 15, 74, 48, 85, 21]\n",
        "\n",
        "print(l)"
      ],
      "execution_count": null,
      "outputs": []
    },
    {
      "cell_type": "code",
      "metadata": {
        "id": "TL7t_qq1-1Qg"
      },
      "source": [
        "m = sorted(l)\n",
        "\n",
        "print(m)"
      ],
      "execution_count": null,
      "outputs": []
    },
    {
      "cell_type": "code",
      "metadata": {
        "id": "JDIE9smR-6GQ"
      },
      "source": [
        "print(l.sort())"
      ],
      "execution_count": null,
      "outputs": []
    },
    {
      "cell_type": "code",
      "metadata": {
        "id": "E00sprPv-8-J"
      },
      "source": [
        "print(l)"
      ],
      "execution_count": null,
      "outputs": []
    },
    {
      "cell_type": "markdown",
      "metadata": {
        "id": "7i5Yjp0A-_Tl"
      },
      "source": [
        "---"
      ]
    },
    {
      "cell_type": "code",
      "metadata": {
        "id": "ni5ORkXe_ASB"
      },
      "source": [
        "l = [37, 8, 54, 18, 23, 45, 76, 15]\n",
        "\n",
        "print(l)"
      ],
      "execution_count": null,
      "outputs": []
    },
    {
      "cell_type": "code",
      "metadata": {
        "id": "hcqTKg9f_GIK"
      },
      "source": [
        "# Sort in descending order\n",
        "\n",
        "m = sorted(l, key = lambda x: -x)\n",
        "\n",
        "print(m)"
      ],
      "execution_count": null,
      "outputs": []
    },
    {
      "cell_type": "markdown",
      "metadata": {
        "id": "PwfQKc0wS7Su"
      },
      "source": [
        "## Tuples\n",
        "A tuple is a collection of entries which are ordered in the same way as lists but cannot be changed.\n",
        "\n",
        "All the regular list operations apply to tuples except for those which attempt to change it's own value"
      ]
    },
    {
      "cell_type": "code",
      "execution_count": null,
      "metadata": {
        "id": "Pq3NlFaeS707"
      },
      "outputs": [],
      "source": [
        "# Let us define a tuple\n",
        "\n",
        "tup_a = (1,2,3,4,5,6)\n",
        "\n",
        "print(tup_a)"
      ]
    },
    {
      "cell_type": "markdown",
      "metadata": {
        "id": "Nr-55sUvS-V9"
      },
      "source": [
        "Let us try changing the entry of a tuple and see what happens"
      ]
    },
    {
      "cell_type": "code",
      "execution_count": null,
      "metadata": {
        "id": "tkBPk7YZTDdX"
      },
      "outputs": [],
      "source": [
        "tup_a[2] = 42"
      ]
    },
    {
      "cell_type": "markdown",
      "metadata": {
        "id": "5XkSzECaTIdh"
      },
      "source": [
        "Oh no, it errored out :(\n",
        "  \n",
        "But this was expected right?"
      ]
    },
    {
      "cell_type": "code",
      "execution_count": null,
      "metadata": {
        "id": "S2OX8z4yTI2S"
      },
      "outputs": [],
      "source": [
        "# Make a new list e which has double the values of tuple a and select the 3rd till 5th element (both inclusive) of both list b and tuple tup_a to compare\n",
        "\n",
        "e = [2*x for x in tup_a]\n",
        "\n",
        "print(e[2:5])\n",
        "print(tup_a[2:5])"
      ]
    },
    {
      "cell_type": "markdown",
      "metadata": {
        "id": "4K_M7yPdrnrL"
      },
      "source": [
        "## Sets\n",
        "A collection of items that is both unordered and unindexed and doesn't allow duplicate values is called a set. Its main usage is to store multiple items in a single variable.\n"
      ]
    },
    {
      "cell_type": "code",
      "execution_count": null,
      "metadata": {
        "id": "xTUCNWINsMWx"
      },
      "outputs": [],
      "source": [
        "thisset = {\"apple\", \"banana\", \"cherry\"}\n",
        "print(thisset) \n",
        "\n",
        "#Another way to define it\n",
        "thisset = set([\"apple\", \"banana\", \"cherry\"])\n",
        "print(thisset)"
      ]
    },
    {
      "cell_type": "markdown",
      "metadata": {
        "id": "ifOGk8mVse6x"
      },
      "source": [
        "Well now that we know how to define a set let's go ahead and see some set operations"
      ]
    },
    {
      "cell_type": "code",
      "execution_count": null,
      "metadata": {
        "id": "TX9ZyfoKsnvV"
      },
      "outputs": [],
      "source": [
        "one=set([4,5,6,7,1,2,3]) \n",
        "two=set([4,5,3,2,1,2]) \n",
        " \n",
        "print(\"The sets: \", one, two)\n",
        "print (\"Intersection: \",one & two) \n",
        "print (\"Union: \",one | two) \n",
        "print(\"Difference: \",one - two)"
      ]
    },
    {
      "cell_type": "markdown",
      "metadata": {
        "id": "m0UoxWLguXuI"
      },
      "source": [
        "As you can see with set two, the value which was repeated has got deleted while creating the set"
      ]
    },
    {
      "cell_type": "markdown",
      "metadata": {
        "id": "usMVleHaTXTv"
      },
      "source": [
        "# Dictionaries\n",
        "\n",
        "A dictionary is a collection of key value pairs which is ordered, changable and does not allow duplicate members. \n",
        "\n",
        "Too much terminology which doesn't make sense?\n",
        "\n",
        "Don't worry about it! Let's consider an analogy. \n",
        "\n",
        "What do you do when you save your close friend Aryans's phone number on your phone? You type in their name followed by their phone number so that when they call you, you don't just see 10 digits staring at your face but instead see your friend's name. Well while saving that friend's number you have essentially created a dictionary!!!!\n",
        "\n",
        "You have used the friend's name as the key and his/her phone number as the value in the key value pair of the dictionary"
      ]
    },
    {
      "cell_type": "code",
      "execution_count": null,
      "metadata": {
        "id": "E8eqQEHtTWnO"
      },
      "outputs": [],
      "source": [
        "phone_num = {'Archish': 123456789}  # This is just a random number I typed which starts with 9 please don't call this number, I don't even know if it's valid.\n",
        "\n",
        "print(phone_num)"
      ]
    },
    {
      "cell_type": "markdown",
      "metadata": {
        "id": "X7ORBE0BTevt"
      },
      "source": [
        "You go on and meet another friend of yours whose name is Archish. He gives you his number so once again you save this number"
      ]
    },
    {
      "cell_type": "code",
      "execution_count": null,
      "metadata": {
        "id": "esUUobJ6TeV_"
      },
      "outputs": [],
      "source": [
        "phone_num['Aryan'] = 987654321  # You can make a new entry by mentioning the key and the value as shown\n",
        "\n",
        "print(phone_num)"
      ]
    },
    {
      "cell_type": "markdown",
      "metadata": {
        "id": "mXydVwQ-T08F"
      },
      "source": [
        "While you were talking to Archish, somewhere in the conversation Archish tells you that very recently he had switched his phone and he lost all his contacts. He asks you to give him Aryans's number as they too are good friends. But wait none of us actually remember all our friends numbers do we? :P\n",
        "\n",
        "Well the dictionary you created can be used for this purpose!"
      ]
    },
    {
      "cell_type": "code",
      "execution_count": null,
      "metadata": {
        "id": "rdWDuXngT1OG"
      },
      "outputs": [],
      "source": [
        "print( phone_num['Archish'] )"
      ]
    },
    {
      "cell_type": "markdown",
      "metadata": {
        "id": "2vD73bfBT5jA"
      },
      "source": [
        "While you're talking Archish who is a little absent minded suddenly remembers that he gave you his old phone number by mistake and now wants you to save his new number. Well how do we do that with dictionaries?"
      ]
    },
    {
      "cell_type": "code",
      "execution_count": null,
      "metadata": {
        "id": "6ttetOZsT506"
      },
      "outputs": [],
      "source": [
        "phone_num['Aryan'] = 483749379837   # It's that simple!\n",
        "\n",
        "print(phone_num)"
      ]
    },
    {
      "cell_type": "markdown",
      "metadata": {
        "id": "GeQnecUfT74O"
      },
      "source": [
        "And while he's at it, he asks you to also save his email ID just in case something goes wrong. Well you might be thinking how do we do that? \n",
        "\n",
        "Did you know that python also allows us to make a dictionary inside a dictionary?"
      ]
    },
    {
      "cell_type": "code",
      "execution_count": null,
      "metadata": {
        "id": "VGpAlqkRT-km"
      },
      "outputs": [],
      "source": [
        "phone_num['Archish'] = {'number': 2740740740, 'email': 'email@abc.com'}\n",
        "\n",
        "print(phone_num)"
      ]
    },
    {
      "cell_type": "markdown",
      "metadata": {
        "id": "bjXTcON00OYu"
      },
      "source": [
        "# Conditional Statements\n",
        "\n",
        "Conditional Statements are used in decision making."
      ]
    },
    {
      "cell_type": "markdown",
      "metadata": {
        "id": "DiafaRg70bWA"
      },
      "source": [
        "## If Statements\n",
        "\n",
        "These make use of test expressions, logical operations that evaluate to TRUE or FALSE - *if* the expression is true, the part indented below the **if** expression is executed. Otherwise, it is ignored."
      ]
    },
    {
      "cell_type": "code",
      "metadata": {
        "id": "y9pew-voz_4e"
      },
      "source": [
        "a = 6\n",
        "b = 6\n",
        "\n",
        "if a == b:\n",
        "    print(\"a equal to b\")\n",
        "    print(\"Something\")\n",
        "\n",
        "if a != b:\n",
        "    print(\"a not equal to b\")\n",
        "\n",
        "    print(\"something\")\n",
        "\n",
        "    print(\"something outside\")"
      ],
      "execution_count": null,
      "outputs": []
    },
    {
      "cell_type": "markdown",
      "metadata": {
        "id": "0tsfRg_q0ovt"
      },
      "source": [
        "## If-Elif-Else Statements\n",
        "\n",
        "The use of **else** and **elif** can be somewhat intuitively understood by the following code."
      ]
    },
    {
      "cell_type": "code",
      "metadata": {
        "id": "PhuQJelK0VR5"
      },
      "source": [
        "a = 6\n",
        "b = 6\n",
        "\n",
        "if a == b:\n",
        "    print(\"a equal to b\")\n",
        "else:\n",
        "    print(\"a not equal to b\")"
      ],
      "execution_count": null,
      "outputs": []
    },
    {
      "cell_type": "code",
      "metadata": {
        "id": "xuMpkcxp0zvn"
      },
      "source": [
        "a = 55\n",
        "b = 6\n",
        "\n",
        "if a == b:\n",
        "    print(\"a equal to b\")\n",
        "elif a>b:\n",
        "    print(\"a greater than b\")\n",
        "elif a<b:\n",
        "    print(\"a less than b\")"
      ],
      "execution_count": null,
      "outputs": []
    },
    {
      "cell_type": "markdown",
      "metadata": {
        "id": "EJu6y3CD1Kav"
      },
      "source": [
        "# Loops\n",
        "\n",
        "Loops are used to run the same piece of code multiple times."
      ]
    },
    {
      "cell_type": "code",
      "metadata": {
        "id": "VbNw_ubc0_H2"
      },
      "source": [
        "print('Welcome to Analytics Club')\n",
        "print('Welcome to Analytics Club')\n",
        "print('Welcome to Analytics Club')\n",
        "print('Welcome to Analytics Club')\n",
        "print('Welcome to Analytics Club')"
      ],
      "execution_count": null,
      "outputs": []
    },
    {
      "cell_type": "code",
      "metadata": {
        "id": "uq_Eh9XU1ZFy"
      },
      "source": [
        "for i in range(20):\n",
        "    print(i, 'Welcome to Analytics Club')"
      ],
      "execution_count": null,
      "outputs": []
    },
    {
      "cell_type": "markdown",
      "metadata": {
        "id": "tMXzE9eN1fd8"
      },
      "source": [
        "As you can see, both lines of code performs exactly the same function. \\\\\n",
        "\n",
        "But the second one, performs it in an efficient manner. That is, we need not repeat the same piece of code multiple times. For instance, a 1000 times?"
      ]
    },
    {
      "cell_type": "markdown",
      "metadata": {
        "id": "dN_SaRut2Cog"
      },
      "source": [
        "### For Loop\n",
        "\n",
        "We have to specify the number of times, code must be executed."
      ]
    },
    {
      "cell_type": "code",
      "metadata": {
        "id": "g8M4bhZ-1eeD"
      },
      "source": [
        "for i in range(10):\n",
        "    print(i)"
      ],
      "execution_count": null,
      "outputs": []
    },
    {
      "cell_type": "markdown",
      "metadata": {
        "id": "FYjcdCOn2Tbl"
      },
      "source": [
        "Consider,\n",
        "\n",
        "``` \n",
        "for i in range(a, b, c):\n",
        "    ...\n",
        "    ...\n",
        "```\n",
        "\n",
        "We iterate from $a \\leq i < b$ and increase $ i \\rightarrow i + c $"
      ]
    },
    {
      "cell_type": "code",
      "metadata": {
        "id": "9_85YvP_19lm"
      },
      "source": [
        "for i in range(55, 10, -5):\n",
        "    print(i)"
      ],
      "execution_count": null,
      "outputs": []
    },
    {
      "cell_type": "markdown",
      "metadata": {
        "id": "K8wnsjBJ3ptH"
      },
      "source": [
        "# Functions\n",
        "\n",
        "* Functions are modules of code that accomplish a specific task. \n",
        "* A function executes only when it is called.\n",
        "* Functions usually take inputs (data), process it, and output (or return) result. Once a function is written, it can be used over and over again."
      ]
    },
    {
      "cell_type": "code",
      "metadata": {
        "id": "zYkS3c8q3kew"
      },
      "source": [
        "def add(a, b):\n",
        "    return (a+b)"
      ],
      "execution_count": null,
      "outputs": []
    },
    {
      "cell_type": "code",
      "metadata": {
        "id": "6NxHEY7t3wu6"
      },
      "source": [
        "print(add(6, 9))"
      ],
      "execution_count": null,
      "outputs": []
    },
    {
      "cell_type": "markdown",
      "metadata": {
        "id": "kSeIFC5L36kj"
      },
      "source": [
        "Why do we need functions?\n",
        "\n",
        "If we need to a set of codes multiple times, Functions saves us the time and also makes the code more elegant."
      ]
    },
    {
      "cell_type": "code",
      "metadata": {
        "id": "xJGEOFMg36dM"
      },
      "source": [
        "def is_prime(n):\n",
        "    prime = True\n",
        "    for i in range(2, n):\n",
        "        if n % i == 0:\n",
        "            prime = False\n",
        "            break\n",
        "    return prime"
      ],
      "execution_count": null,
      "outputs": []
    },
    {
      "cell_type": "code",
      "metadata": {
        "id": "447JgQ6v30Y-"
      },
      "source": [
        "for n in range(2, 50):\n",
        "    if is_prime(n):\n",
        "        print(n)"
      ],
      "execution_count": null,
      "outputs": []
    },
    {
      "cell_type": "markdown",
      "metadata": {
        "id": "WaeYuFZWcssU"
      },
      "source": [
        "# Classes\n",
        "\n",
        "- A class is a blueprint for an object.\n",
        "\n",
        "- It is a way to bundle data (even of different data types) together. \n",
        "- Each variable or piece of data is known as an attribute of the class.\n",
        "\n",
        "- In addition, a class can have functions associated with it called methods.\n",
        "\n",
        "A n object is an instance of a class.\n"
      ]
    },
    {
      "cell_type": "code",
      "metadata": {
        "id": "W-QXAFA5dbum"
      },
      "source": [
        "class Number():\n",
        "    def __init__(self, value, power=1e-3):\n",
        "        self.value = value\n",
        "        self.power = power\n",
        "    \n",
        "    def __str__(self):\n",
        "        return str(self.value*self.power)\n",
        "\n",
        "    def update(self, value):\n",
        "        self.value = value"
      ],
      "execution_count": null,
      "outputs": []
    },
    {
      "cell_type": "code",
      "metadata": {
        "id": "-oeNgea9dbsS"
      },
      "source": [
        "number = Number(466)\n",
        "\n",
        "print(number)"
      ],
      "execution_count": null,
      "outputs": []
    },
    {
      "cell_type": "markdown",
      "metadata": {
        "id": "hVSqIGJOeofZ"
      },
      "source": [
        "Using classes to represent a vector"
      ]
    },
    {
      "cell_type": "code",
      "metadata": {
        "id": "vy-iaG5ffRHM"
      },
      "source": [
        "import math"
      ],
      "execution_count": null,
      "outputs": []
    },
    {
      "cell_type": "code",
      "metadata": {
        "id": "YS9N6mq1dbpr"
      },
      "source": [
        "class Coordinates():\n",
        "    def __init__(self, x, y):\n",
        "        self.x = x\n",
        "        self.y = y\n",
        "\n",
        "    def get(self):\n",
        "        return (self.x, self.y)\n",
        "\n",
        "    def get_distance(self, point):\n",
        "        return math.sqrt( (self.x-point.x)**2 + (self.y-point.y)**2 )"
      ],
      "execution_count": null,
      "outputs": []
    },
    {
      "cell_type": "code",
      "metadata": {
        "id": "OvlzuXMDe-Le"
      },
      "source": [
        "class Vector():\n",
        "    def __init__(self, start, end):\n",
        "        self.start = Coordinates(start[0], start[1])\n",
        "        self.end = Coordinates(end[0], end[1])\n",
        "\n",
        "    def get_magnitude(self):\n",
        "        return self.start.get_distance(self.end)\n",
        "\n",
        "    def get_orietation(self):\n",
        "        return math.atan((self.end.y - self.start.y)/(self.end.x - self.start.x)) * 180/math.pi"
      ],
      "execution_count": null,
      "outputs": []
    },
    {
      "cell_type": "code",
      "metadata": {
        "id": "SA3O4teZfyHc"
      },
      "source": [
        "vector = Vector(start=(0,0), end=(5,5))\n",
        "\n",
        "print(\"Magnitude of the Vector: \", vector.get_magnitude())\n",
        "print(\"Orietation of the Vector: \", vector.get_orietation())"
      ],
      "execution_count": null,
      "outputs": []
    },
    {
      "cell_type": "markdown",
      "metadata": {
        "id": "kTCsmpXbglwF"
      },
      "source": [
        "### Inheritance\n",
        "\n",
        "The cleass `Student` inherits both the attributes and the methods of the parent class `Name`."
      ]
    },
    {
      "cell_type": "code",
      "metadata": {
        "id": "UoFz_KRfgmw6"
      },
      "source": [
        "class Name():\n",
        "    def __init__(self, first, last):\n",
        "        self.first = first\n",
        "        self.last = last\n",
        "\n",
        "    def __str__(self):\n",
        "        return f\"{self.first} {self.last}\""
      ],
      "execution_count": null,
      "outputs": []
    },
    {
      "cell_type": "code",
      "metadata": {
        "id": "tezur94fgmtP"
      },
      "source": [
        "class Student(Name):\n",
        "    def __init__(self, first, last, grade):\n",
        "        Name.__init__(self, first, last)\n",
        "        self.grade = grade\n",
        "\n",
        "    def get(self):\n",
        "        print(f\"Name: {self.first} {self.last}\")\n",
        "        print(f\"Class: {self.grade}\")"
      ],
      "execution_count": null,
      "outputs": []
    },
    {
      "cell_type": "code",
      "metadata": {
        "id": "GRoBZK3-gmqD"
      },
      "source": [
        "student = Student(\"John\", \"Doe\", 8)\n",
        "\n",
        "student.get()"
      ],
      "execution_count": null,
      "outputs": []
    },
    {
      "cell_type": "markdown",
      "metadata": {
        "id": "xwka4NXQhlW7"
      },
      "source": [
        "What about the methods?"
      ]
    },
    {
      "cell_type": "code",
      "metadata": {
        "id": "AJYNgsBIhjxk"
      },
      "source": [
        "print(student)"
      ],
      "execution_count": null,
      "outputs": []
    },
    {
      "cell_type": "code",
      "metadata": {
        "id": "_ZhqCa43h4fB"
      },
      "source": [
        "class Employee(Name):\n",
        "    def __init__(self, first, last, id):\n",
        "        super().__init__(first, last)\n",
        "        self.id = id\n",
        "\n",
        "    def get(self):\n",
        "        print(f\"Name: {self.first} {self.last}\")\n",
        "        print(f\"ID: {self.id}\")"
      ],
      "execution_count": null,
      "outputs": []
    },
    {
      "cell_type": "code",
      "metadata": {
        "id": "6f_-9BGAh4Xs"
      },
      "source": [
        "employee = Employee(\"Jane\", \"Doe\", \"1234\")\n",
        "\n",
        "employee.get()"
      ],
      "execution_count": null,
      "outputs": []
    },
    {
      "cell_type": "markdown",
      "metadata": {
        "id": "I-srLLUO442Q"
      },
      "source": [
        "# NumPy"
      ]
    },
    {
      "cell_type": "code",
      "metadata": {
        "id": "1di9BSnR4th4"
      },
      "source": [
        "import numpy as np"
      ],
      "execution_count": null,
      "outputs": []
    },
    {
      "cell_type": "markdown",
      "source": [
        "Creating a list of the first 100 non negative integers in python as well as in numpy"
      ],
      "metadata": {
        "id": "w886MdKoVHbr"
      }
    },
    {
      "cell_type": "code",
      "source": [
        "y = list(range(100))\n",
        "print(y)"
      ],
      "metadata": {
        "id": "nOj7iYN4WoZN"
      },
      "execution_count": null,
      "outputs": []
    },
    {
      "cell_type": "code",
      "metadata": {
        "id": "lFLQ0lGO47cr"
      },
      "source": [
        "x = np.array([0, 1, 2, 3, 4, 5, 6, 7, 8, 9]) \n",
        "print(x)"
      ],
      "execution_count": null,
      "outputs": []
    },
    {
      "cell_type": "code",
      "source": [
        "# Wait, what if we need an array of numbers 0 to 100? \n",
        "\n",
        "x = np.arange(100)\n",
        "print(x)"
      ],
      "metadata": {
        "id": "G-PRWSy057Zp"
      },
      "execution_count": null,
      "outputs": []
    },
    {
      "cell_type": "markdown",
      "metadata": {
        "id": "KYXnjrJm77CT"
      },
      "source": [
        "Arithmetic Operations"
      ]
    },
    {
      "cell_type": "markdown",
      "source": [
        "Suppose you want to add one to every element of the array\n",
        "\n",
        "For a numpy array we can directly do this"
      ],
      "metadata": {
        "id": "LvDpFbdBVT4p"
      }
    },
    {
      "cell_type": "code",
      "metadata": {
        "id": "T4IAgXKn5IQ2"
      },
      "source": [
        "x = x + 1\n",
        "\n",
        "print(x)"
      ],
      "execution_count": null,
      "outputs": []
    },
    {
      "cell_type": "markdown",
      "source": [
        "Let's try the same thing for a list"
      ],
      "metadata": {
        "id": "u-Ftxara6T_O"
      }
    },
    {
      "cell_type": "code",
      "source": [
        " y = y + 1\n",
        "\n",
        " print(y)"
      ],
      "metadata": {
        "id": "xwnn_hkEWxmk"
      },
      "execution_count": null,
      "outputs": []
    },
    {
      "cell_type": "markdown",
      "source": [
        " Suppose you want to multiply every element of the array by 2"
      ],
      "metadata": {
        "id": "nL7enJGrVYFG"
      }
    },
    {
      "cell_type": "code",
      "metadata": {
        "id": "OQ1xN8R17zQG"
      },
      "source": [
        "x = x * 2\n",
        "\n",
        "print(x)"
      ],
      "execution_count": null,
      "outputs": []
    },
    {
      "cell_type": "markdown",
      "metadata": {
        "id": "OOtYS4YM7O5E"
      },
      "source": [
        "Multiplying two arrays"
      ]
    },
    {
      "cell_type": "code",
      "metadata": {
        "id": "CKQp19oe7IYc"
      },
      "source": [
        "x = np.arange(10)\n",
        "y = np.arange(10)\n",
        "\n",
        "print(x*y)"
      ],
      "execution_count": null,
      "outputs": []
    },
    {
      "cell_type": "markdown",
      "metadata": {
        "id": "hLuVAfUGifNu"
      },
      "source": [
        "## Nd-arrays"
      ]
    },
    {
      "cell_type": "code",
      "source": [
        "a = np.array([[1,2,3],\n",
        "              [4,5,6],\n",
        "              [7,8,9],\n",
        "              [10,11,12]])\n",
        "print(a)"
      ],
      "metadata": {
        "id": "zwSLoGX36y8u"
      },
      "execution_count": null,
      "outputs": []
    },
    {
      "cell_type": "code",
      "source": [
        "b = [[1,2,3],\n",
        "    [4,5,6],\n",
        "    [7,8,9],\n",
        "    [10,11,12]]\n",
        "print(b)"
      ],
      "metadata": {
        "id": "Mrli5lmMehYU"
      },
      "execution_count": null,
      "outputs": []
    },
    {
      "cell_type": "code",
      "source": [
        "print(a.shape)"
      ],
      "metadata": {
        "id": "ZDvuumb06-_s"
      },
      "execution_count": null,
      "outputs": []
    },
    {
      "cell_type": "code",
      "source": [
        "print(b.shape)"
      ],
      "metadata": {
        "id": "UbZIL5YDeo_3"
      },
      "execution_count": null,
      "outputs": []
    },
    {
      "cell_type": "code",
      "source": [
        "b = np.array(b)\n",
        "print(b)"
      ],
      "metadata": {
        "id": "xvkpMl1Nexs7"
      },
      "execution_count": null,
      "outputs": []
    },
    {
      "cell_type": "code",
      "source": [
        "a = a.reshape(3,4)\n",
        "print(a)"
      ],
      "metadata": {
        "id": "AXopvEC67dYS"
      },
      "execution_count": null,
      "outputs": []
    },
    {
      "cell_type": "code",
      "source": [
        "a = a.reshape(-1,6)\n",
        "print(a)"
      ],
      "metadata": {
        "id": "Hbg1uel67l4u"
      },
      "execution_count": null,
      "outputs": []
    },
    {
      "cell_type": "markdown",
      "metadata": {
        "id": "HhONHT04ipBN"
      },
      "source": [
        "## Matrix Operations"
      ]
    },
    {
      "cell_type": "code",
      "metadata": {
        "id": "JRUkTWYhifBY"
      },
      "source": [
        "I = np.identity(3)\n",
        "\n",
        "print(I)"
      ],
      "execution_count": null,
      "outputs": []
    },
    {
      "cell_type": "code",
      "metadata": {
        "id": "DUY4GmxEie--"
      },
      "source": [
        "a = np.random.rand(3,3)\n",
        "\n",
        "print(a)"
      ],
      "execution_count": null,
      "outputs": []
    },
    {
      "cell_type": "markdown",
      "metadata": {
        "id": "lh1OoP6_i9xO"
      },
      "source": [
        "Element-wise Multiplication"
      ]
    },
    {
      "cell_type": "code",
      "metadata": {
        "id": "lcP4jsEsie8h"
      },
      "source": [
        "print(a*I)"
      ],
      "execution_count": null,
      "outputs": []
    },
    {
      "cell_type": "markdown",
      "metadata": {
        "id": "3zyJVrFHjC7C"
      },
      "source": [
        "Matrix Multiplication"
      ]
    },
    {
      "cell_type": "code",
      "metadata": {
        "id": "WjL093ZfjCOB"
      },
      "source": [
        "print(np.matmul(a, I))"
      ],
      "execution_count": null,
      "outputs": []
    },
    {
      "cell_type": "code",
      "source": [
        "print(a@I)"
      ],
      "metadata": {
        "id": "bCQqNhRe8BqR"
      },
      "execution_count": null,
      "outputs": []
    },
    {
      "cell_type": "markdown",
      "source": [
        "# Pytorch"
      ],
      "metadata": {
        "id": "y2_e4MGkrg6A"
      }
    },
    {
      "cell_type": "code",
      "source": [
        "import numpy as np\n",
        "import torch"
      ],
      "metadata": {
        "id": "yN9PEmIariIo"
      },
      "execution_count": null,
      "outputs": []
    },
    {
      "cell_type": "code",
      "source": [
        "x = torch.tensor([1,2,3,4,5])\n",
        "print(x)"
      ],
      "metadata": {
        "id": "Sg7VF__V8Xv-"
      },
      "execution_count": null,
      "outputs": []
    },
    {
      "cell_type": "code",
      "source": [
        "x = np.arange(100)\n",
        "print(type(x))\n",
        "\n",
        "x = torch.tensor(x)\n",
        "print(type(x))\n",
        "print(x.size())"
      ],
      "metadata": {
        "id": "GcTOdoaGr3Fh"
      },
      "execution_count": null,
      "outputs": []
    },
    {
      "cell_type": "markdown",
      "source": [
        "## Resizing Tensors"
      ],
      "metadata": {
        "id": "lcZb5fzTtjeo"
      }
    },
    {
      "cell_type": "code",
      "source": [
        "x = torch.arange(105)\n",
        "print(x)\n",
        "print(x.size())"
      ],
      "metadata": {
        "id": "HOVPSbRgtN6C"
      },
      "execution_count": null,
      "outputs": []
    },
    {
      "cell_type": "code",
      "source": [
        "y = x.reshape((5, 21))\n",
        "print(y)"
      ],
      "metadata": {
        "id": "A34d9wLTtXDK"
      },
      "execution_count": null,
      "outputs": []
    },
    {
      "cell_type": "code",
      "source": [
        "z = x.reshape((5, 3, 7))\n",
        "print(z)"
      ],
      "metadata": {
        "id": "vo5lQwa8tXAV"
      },
      "execution_count": null,
      "outputs": []
    },
    {
      "cell_type": "code",
      "source": [
        "w = x.view((3, 35))\n",
        "print(w)"
      ],
      "metadata": {
        "id": "fcZeUJsDuHoD"
      },
      "execution_count": null,
      "outputs": []
    },
    {
      "cell_type": "markdown",
      "source": [
        "When to use `Tensor.view` and when to use `Tensor.reshape`?\n",
        "\n",
        "`Tensor.view` works only when the tensor is contiguous. Where as `Tensor.reshape` (may) creates a new instance of the tensor and therefore can be used universally."
      ],
      "metadata": {
        "id": "uEQ7rX1JVonr"
      }
    },
    {
      "cell_type": "markdown",
      "source": [
        "### Permute"
      ],
      "metadata": {
        "id": "XzTLhP_ouN0S"
      }
    },
    {
      "cell_type": "code",
      "source": [
        "w = z.permute((1, 0, 2))\n",
        "print(w)\n",
        "print(w.size())"
      ],
      "metadata": {
        "id": "RRYKYAb2tW9V"
      },
      "execution_count": null,
      "outputs": []
    },
    {
      "cell_type": "code",
      "source": [
        "w = torch.moveaxis(z, 1, 0)\n",
        "print(w)\n",
        "print(w.size())"
      ],
      "metadata": {
        "id": "jI4KwW4Au0KX"
      },
      "execution_count": null,
      "outputs": []
    },
    {
      "cell_type": "markdown",
      "source": [
        "### Flatten"
      ],
      "metadata": {
        "id": "SoJh8htRvs0_"
      }
    },
    {
      "cell_type": "code",
      "source": [
        "print(w.size())\n",
        "\n",
        "u = torch.flatten(w, 1, 2)\n",
        "print(u.size())"
      ],
      "metadata": {
        "id": "GAUXy-iqu0IG"
      },
      "execution_count": null,
      "outputs": []
    },
    {
      "cell_type": "code",
      "source": [
        "print(u)"
      ],
      "metadata": {
        "id": "Iu4L7TA4h348"
      },
      "execution_count": null,
      "outputs": []
    },
    {
      "cell_type": "code",
      "source": [
        "print(w.size())\n",
        "\n",
        "u = torch.flatten(w)\n",
        "print(u.size())"
      ],
      "metadata": {
        "id": "g71Q33TitW40"
      },
      "execution_count": null,
      "outputs": []
    },
    {
      "cell_type": "code",
      "source": [
        "print(u)"
      ],
      "metadata": {
        "id": "dSlrgIqliCb5"
      },
      "execution_count": null,
      "outputs": []
    },
    {
      "cell_type": "markdown",
      "source": [
        "##Operations"
      ],
      "metadata": {
        "id": "dM5LUuq-v0D4"
      }
    },
    {
      "cell_type": "code",
      "metadata": {
        "id": "s9agiKjksINc"
      },
      "source": [
        "# Suppose you want to add one to every element of the array\n",
        "\n",
        "x = x + 1\n",
        "\n",
        "print(x)"
      ],
      "execution_count": null,
      "outputs": []
    },
    {
      "cell_type": "code",
      "source": [
        "x = x + x\n",
        "\n",
        "print(x)"
      ],
      "metadata": {
        "id": "5gCmmBhNyXRr"
      },
      "execution_count": null,
      "outputs": []
    },
    {
      "cell_type": "code",
      "metadata": {
        "id": "3qvDgpuWsINc"
      },
      "source": [
        "x = x * 2\n",
        "\n",
        "print(x)"
      ],
      "execution_count": null,
      "outputs": []
    },
    {
      "cell_type": "markdown",
      "metadata": {
        "id": "EChdov-rsINc"
      },
      "source": [
        "### Multiplying two arrays"
      ]
    },
    {
      "cell_type": "code",
      "metadata": {
        "id": "MNoIfDTRsINc"
      },
      "source": [
        "x = torch.randint(low=1, high=3, size=(2, 3))\n",
        "print(x)"
      ],
      "execution_count": null,
      "outputs": []
    },
    {
      "cell_type": "code",
      "source": [
        "y = torch.randint(low=1, high=3, size=(2, 3))\n",
        "print(y)"
      ],
      "metadata": {
        "id": "Tf3G_x7ZwOe6"
      },
      "execution_count": null,
      "outputs": []
    },
    {
      "cell_type": "code",
      "source": [
        "z = x*y\n",
        "print(z)"
      ],
      "metadata": {
        "id": "CLUeNo7mwDWC"
      },
      "execution_count": null,
      "outputs": []
    },
    {
      "cell_type": "markdown",
      "source": [
        "---"
      ],
      "metadata": {
        "id": "i2x-7lKewsGh"
      }
    },
    {
      "cell_type": "code",
      "source": [
        "print(x.size())\n",
        "print(y.size())\n",
        "\n",
        "\n",
        "z = torch.matmul(x, y.T)\n",
        "\n",
        "print(z)\n",
        "print(z.size())"
      ],
      "metadata": {
        "id": "N3wl_LHzwuJB"
      },
      "execution_count": null,
      "outputs": []
    },
    {
      "cell_type": "code",
      "source": [
        "print(x.size())\n",
        "print(y.size())\n",
        "\n",
        "\n",
        "z = x@y.T\n",
        "\n",
        "print(z)\n",
        "print(z.size())"
      ],
      "metadata": {
        "id": "FWPDQgINwVEB"
      },
      "execution_count": null,
      "outputs": []
    },
    {
      "cell_type": "markdown",
      "source": [
        "### Maximum element in a tensor"
      ],
      "metadata": {
        "id": "S6g3Secxw73k"
      }
    },
    {
      "cell_type": "code",
      "source": [
        "x = torch.randint(low=1, high=500, size=(100,))\n",
        "print(x)\n",
        "\n",
        "print(torch.max(x))\n",
        "print(torch.argmax(x))"
      ],
      "metadata": {
        "id": "MgrBLehWwU7l"
      },
      "execution_count": null,
      "outputs": []
    },
    {
      "cell_type": "code",
      "source": [
        "print(x[21])"
      ],
      "metadata": {
        "id": "qQnvgsxoxRn6"
      },
      "execution_count": null,
      "outputs": []
    },
    {
      "cell_type": "code",
      "source": [
        "x = torch.randint(low=1, high=500, size=(100,)).view(10, 10)\n",
        "print(x)\n",
        "\n",
        "print(torch.max(x, dim=1).values)\n",
        "print(torch.argmax(x, dim=1))"
      ],
      "metadata": {
        "id": "qPPfx9cUxgpJ"
      },
      "execution_count": null,
      "outputs": []
    },
    {
      "cell_type": "markdown",
      "source": [
        "# Linear Regression\n",
        " \n",
        "\n",
        "![image.png](data:image/png;base64,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)\n",
        "\n",
        "Linear regression attempts to model the relationship between two (or more) variables by fitting a linear equation to observed data.  \n",
        "\n",
        "In the case of two variables, the parameters $m$ and $c$ define the line equation ${y} = {mx} + {c}$ and hence the goal of the model is to find the optimal values of and $m$ and $c$ such that the given data is best fit, where we try to minimize the error between the predicted and true values. "
      ],
      "metadata": {
        "id": "zhLZm7QEytah"
      }
    },
    {
      "cell_type": "markdown",
      "source": [
        "In the best fit, we try minimizing the error between the predicted and true values. This is the criterion used to evaluate how well a model fits the data, and this criterion can be modelled as the cost function.\n",
        "\n",
        "We try minimizing the error between the predicted and true values. This is the criterion used to evaluate how well a model fits the data, and this criterion can be modelled as the cose function. Cost function determines the deviation from true values, we find $m$ and $c$ such that this function is minimum. The best fit for our model when our cost function is at the minima.\n",
        "\n",
        "\n",
        "Gradient Descent is an iterative optimization algorithm to find the minimum of a function. \n",
        "\n"
      ],
      "metadata": {
        "id": "MXk52Kt0XDwC"
      }
    },
    {
      "cell_type": "markdown",
      "source": [
        "For the example, \\\\\n",
        " $$ y = mx + c $$\n",
        "\n",
        "Consider the Loss function as \n",
        "$$ \\mathscr{L} \\left( m, c \\right) = \\frac{\\sum_{n} \\left( y_{actual} - y_{predicted} \\right)^2}{n} $$\n",
        "\n",
        "We update the values of $m$ and $c$ as (where $\\alpha$ is the learning rate)\n",
        "\n",
        "$$ m \\rightarrow m - \\alpha \\frac{\\partial}{\\partial m} \\mathscr{L} \\left( m, c \\right) $$\n",
        "$$ c \\rightarrow m - \\alpha \\frac{\\partial}{\\partial c} \\mathscr{L} \\left( m, c \\right) $$"
      ],
      "metadata": {
        "id": "TCYY0TPNcpsG"
      }
    },
    {
      "cell_type": "code",
      "source": [
        "x = torch.rand((1,), requires_grad=True)\n",
        "\n",
        "y = 5*x + 3"
      ],
      "metadata": {
        "id": "vdoCvsPr7blc"
      },
      "execution_count": null,
      "outputs": []
    },
    {
      "cell_type": "code",
      "source": [
        "y.backward()"
      ],
      "metadata": {
        "id": "nn9wFpe57bjE"
      },
      "execution_count": null,
      "outputs": []
    },
    {
      "cell_type": "code",
      "source": [
        "x.grad"
      ],
      "metadata": {
        "id": "onWioLLO7bgs"
      },
      "execution_count": null,
      "outputs": []
    },
    {
      "cell_type": "markdown",
      "source": [
        "---"
      ],
      "metadata": {
        "id": "w97eaxCS7bAf"
      }
    },
    {
      "cell_type": "code",
      "source": [
        "x = torch.rand((5, 3), requires_grad=False)\n",
        "y = torch.rand((5, 1), requires_grad=False)\n",
        "\n",
        "a = torch.rand((1, 3), requires_grad=True)\n",
        "b = torch.rand((1, 1), requires_grad=True)\n",
        "\n",
        "# y = a*x + b"
      ],
      "metadata": {
        "id": "JBDdtATJxgkm"
      },
      "execution_count": null,
      "outputs": []
    },
    {
      "cell_type": "code",
      "source": [
        "print(x)\n",
        "print(y)"
      ],
      "metadata": {
        "id": "uGtkzEQdz0fN"
      },
      "execution_count": null,
      "outputs": []
    },
    {
      "cell_type": "code",
      "source": [
        "y_pred = x@a.T + b\n",
        "print(y_pred)"
      ],
      "metadata": {
        "id": "T_tQlzpWzwmz"
      },
      "execution_count": null,
      "outputs": []
    },
    {
      "cell_type": "code",
      "source": [
        "loss = torch.mean((y-y_pred)**2)\n",
        "print(loss)"
      ],
      "metadata": {
        "id": "9PSR5vyX0Uqn"
      },
      "execution_count": null,
      "outputs": []
    },
    {
      "cell_type": "code",
      "source": [
        "loss.backward()"
      ],
      "metadata": {
        "id": "YTb_1GXQ1YMb"
      },
      "execution_count": null,
      "outputs": []
    },
    {
      "cell_type": "code",
      "source": [
        "with torch.no_grad():\n",
        "    a = a - 0.01*a.grad\n",
        "    b = b - 0.01*b.grad"
      ],
      "metadata": {
        "id": "2wkf6vev1AID"
      },
      "execution_count": null,
      "outputs": []
    },
    {
      "cell_type": "code",
      "source": [
        "y_pred1 = x@a.T + b\n",
        "print(y_pred1)\n",
        "\n",
        "loss = torch.mean((y-y_pred1)**2)\n",
        "print(loss)"
      ],
      "metadata": {
        "id": "guGCgl6D2EPH"
      },
      "execution_count": null,
      "outputs": []
    },
    {
      "cell_type": "markdown",
      "source": [
        "---"
      ],
      "metadata": {
        "id": "3stEO0gbiHK7"
      }
    },
    {
      "cell_type": "markdown",
      "source": [
        "As a fun learning task, by pass the use of `nn.criterion` or `torch.optim` and implement the full forward and back propogation for the same task. Call the primitives until the optimal minima is reached."
      ],
      "metadata": {
        "id": "tprK2sU0MWeh"
      }
    },
    {
      "cell_type": "markdown",
      "source": [
        "---"
      ],
      "metadata": {
        "id": "vlfRa0ir2sNy"
      }
    },
    {
      "cell_type": "code",
      "source": [
        "import torch\n",
        "import torch.nn as nn\n",
        "import torch.optim as optim\n",
        "\n",
        "import matplotlib.pyplot as plt\n",
        "import time\n",
        "import tqdm"
      ],
      "metadata": {
        "id": "qDQPXPag2vAY"
      },
      "execution_count": null,
      "outputs": []
    },
    {
      "cell_type": "code",
      "source": [
        "class LinearRegression(nn.Module):\n",
        "    def __init__(self, dims):\n",
        "        super(LinearRegression, self).__init__()\n",
        "\n",
        "        self.linear = nn.Linear(dims, 1, bias=True)\n",
        "\n",
        "    def forward(self, x):\n",
        "        return self.linear(x)"
      ],
      "metadata": {
        "id": "wId_oq_22TyR"
      },
      "execution_count": null,
      "outputs": []
    },
    {
      "cell_type": "code",
      "source": [
        "regressor = LinearRegression(dims=3)\n",
        "\n",
        "criterion = nn.MSELoss()\n",
        "optimizer = optim.SGD(regressor.parameters(), lr=0.01)"
      ],
      "metadata": {
        "id": "wte0Ge0M3is6"
      },
      "execution_count": null,
      "outputs": []
    },
    {
      "cell_type": "code",
      "source": [
        "y_pred = regressor(x)\n",
        "print(y_pred)\n",
        "\n",
        "optimizer.zero_grad()\n",
        "\n",
        "loss = criterion(y_pred, y)\n",
        "print(loss.item())\n",
        "\n",
        "loss.backward()\n",
        "optimizer.step()"
      ],
      "metadata": {
        "id": "mPBIKCqQ3hyS"
      },
      "execution_count": null,
      "outputs": []
    },
    {
      "cell_type": "code",
      "source": [
        "y_pred = regressor(x)\n",
        "\n",
        "loss = criterion(y_pred, y)\n",
        "print(loss.item())"
      ],
      "metadata": {
        "id": "NGMFJ9po34qu"
      },
      "execution_count": null,
      "outputs": []
    },
    {
      "cell_type": "code",
      "source": [
        "train_loss = []\n",
        "\n",
        "for epoch in range(10):\n",
        "    y_pred = regressor(x)\n",
        "    optimizer.zero_grad()\n",
        "\n",
        "    loss = criterion(y_pred, y)\n",
        "    train_loss.append(loss.item())\n",
        "\n",
        "    loss.backward()\n",
        "    optimizer.step()\n",
        "\n",
        "plt.plot(train_loss)"
      ],
      "metadata": {
        "id": "iEAuo2I54BGx"
      },
      "execution_count": null,
      "outputs": []
    },
    {
      "cell_type": "markdown",
      "source": [
        "---"
      ],
      "metadata": {
        "id": "TokfzaZmhhzR"
      }
    },
    {
      "cell_type": "code",
      "source": [
        "train_loss = []\n",
        "\n",
        "for epoch in range(10000):\n",
        "    y_pred = regressor(x)\n",
        "    optimizer.zero_grad()\n",
        "\n",
        "    loss = criterion(y_pred, y)\n",
        "    train_loss.append(loss.item())\n",
        "\n",
        "    loss.backward()\n",
        "    optimizer.step()\n",
        "\n",
        "plt.plot(train_loss)"
      ],
      "metadata": {
        "id": "hbebVMn04kUC"
      },
      "execution_count": null,
      "outputs": []
    },
    {
      "cell_type": "code",
      "source": [
        "x = torch.rand((500, 15000))\n",
        "y = torch.rand((500, 1))"
      ],
      "metadata": {
        "id": "OKGlwAfT4uI0"
      },
      "execution_count": null,
      "outputs": []
    },
    {
      "cell_type": "code",
      "source": [
        "regressor = LinearRegression(dims=15000)\n",
        "\n",
        "criterion = nn.MSELoss()\n",
        "optimizer = optim.SGD(regressor.parameters(), lr=1e-6)"
      ],
      "metadata": {
        "id": "lsRUhcch5eJ6"
      },
      "execution_count": null,
      "outputs": []
    },
    {
      "cell_type": "code",
      "source": [
        "start = time.time()\n",
        "\n",
        "train_loss = []\n",
        "\n",
        "for epoch in tqdm.trange(10000):\n",
        "    y_pred = regressor(x)\n",
        "    optimizer.zero_grad()\n",
        "\n",
        "    loss = criterion(y_pred, y)\n",
        "    train_loss.append(loss.item())\n",
        "\n",
        "    loss.backward()\n",
        "    optimizer.step()\n",
        "\n",
        "end = time.time()\n",
        "\n",
        "print(f\"Time taken: {(end-start)/60} mins\")\n",
        "\n",
        "plt.plot(train_loss)"
      ],
      "metadata": {
        "id": "sMwMOIAu5a1u"
      },
      "execution_count": null,
      "outputs": []
    },
    {
      "cell_type": "markdown",
      "source": [
        "Time taken: 7.934232886632284 mins"
      ],
      "metadata": {
        "id": "l8zTGPO3giH4"
      }
    },
    {
      "cell_type": "markdown",
      "source": [
        "---"
      ],
      "metadata": {
        "id": "g0YWH3qy6aDu"
      }
    },
    {
      "cell_type": "code",
      "source": [
        "device = torch.device('cuda' if torch.cuda.is_available() else 'cpu')"
      ],
      "metadata": {
        "id": "09pBCTD57-Y8"
      },
      "execution_count": null,
      "outputs": []
    },
    {
      "cell_type": "code",
      "source": [
        "x = x.to(device)\n",
        "y = y.to(device)\n",
        "\n",
        "regressor = LinearRegression(dims=15000).to(device)\n",
        "\n",
        "criterion = nn.MSELoss().to(device)\n",
        "optimizer = optim.SGD(regressor.parameters(), lr=1e-6)"
      ],
      "metadata": {
        "id": "aWV_qEeX54cK"
      },
      "execution_count": null,
      "outputs": []
    },
    {
      "cell_type": "code",
      "source": [
        "start = time.time()\n",
        "\n",
        "train_loss = []\n",
        "\n",
        "for epoch in tqdm.trange(10000):\n",
        "    y_pred = regressor(x)\n",
        "    optimizer.zero_grad()\n",
        "\n",
        "    loss = criterion(y_pred, y)\n",
        "    train_loss.append(loss.item())\n",
        "\n",
        "    loss.backward()\n",
        "    optimizer.step()\n",
        "\n",
        "end = time.time()\n",
        "\n",
        "print(f\"Time taken: {(end-start)/60} mins\")\n",
        "\n",
        "plt.plot(train_loss)"
      ],
      "metadata": {
        "id": "pTy7WNKn6MV0"
      },
      "execution_count": null,
      "outputs": []
    },
    {
      "cell_type": "markdown",
      "source": [
        "Time taken: 0.43383294343948364 mins"
      ],
      "metadata": {
        "id": "DLEQ3iCVgkwE"
      }
    },
    {
      "cell_type": "markdown",
      "source": [
        "---"
      ],
      "metadata": {
        "id": "TgoXlrQDN3A2"
      }
    },
    {
      "cell_type": "code",
      "source": [
        "np.random.seed(0)\n",
        "\n",
        "torch.manual_seed(0)\n",
        "torch.cuda.manual_seed(0)"
      ],
      "metadata": {
        "id": "u9ua1LR0tHcn"
      },
      "execution_count": null,
      "outputs": []
    },
    {
      "cell_type": "code",
      "source": [
        "import matplotlib.pyplot as plt"
      ],
      "metadata": {
        "id": "fiPn5pA2crse"
      },
      "execution_count": null,
      "outputs": []
    },
    {
      "cell_type": "code",
      "source": [
        "x = torch.linspace(0, 1, 100)\n",
        "\n",
        "weight = 0.2\n",
        "bias = 0.1\n",
        "\n",
        "noise = torch.rand((x.size())) * 0.03\n",
        "\n",
        "y = weight * x + bias + noise"
      ],
      "metadata": {
        "id": "wqo68_-TPxjm"
      },
      "execution_count": null,
      "outputs": []
    },
    {
      "cell_type": "code",
      "source": [
        "plt.scatter(x.cpu(), y.cpu())"
      ],
      "metadata": {
        "id": "nOT8czF7Pxg_"
      },
      "execution_count": null,
      "outputs": []
    },
    {
      "cell_type": "code",
      "source": [
        "class LinearRegression_2(nn.Module):\n",
        "    def __init__(self, dims_in, dims_out):\n",
        "        super(LinearRegression_2, self).__init__()\n",
        "\n",
        "        self.linear = nn.Linear(dims_in, dims_out, bias=True)\n",
        "\n",
        "\n",
        "    def forward(self, x):\n",
        "        return self.linear(x)"
      ],
      "metadata": {
        "id": "xbLza-RkfqQq"
      },
      "execution_count": null,
      "outputs": []
    },
    {
      "cell_type": "code",
      "source": [
        "x = x.view(-1, 1).float().to(device)\n",
        "y = y.view_as(x).to(device)\n",
        "\n",
        "regressor = LinearRegression_2(dims_in=1, dims_out=1).to(device)\n",
        "\n",
        "criterion = nn.MSELoss().to(device)\n",
        "optimizer = optim.Adam(regressor.parameters(), lr=1e-4)"
      ],
      "metadata": {
        "id": "S-GdIhcMPxeh"
      },
      "execution_count": null,
      "outputs": []
    },
    {
      "cell_type": "code",
      "source": [
        "train_loss = []\n",
        "\n",
        "for epoch in tqdm.trange(17000):\n",
        "    y_pred = regressor(x)\n",
        "    optimizer.zero_grad()\n",
        "\n",
        "    loss = criterion(y_pred, y)\n",
        "    train_loss.append(loss.item())\n",
        "\n",
        "    loss.backward()\n",
        "    optimizer.step()"
      ],
      "metadata": {
        "id": "eAPmOR6YPxcG"
      },
      "execution_count": null,
      "outputs": []
    },
    {
      "cell_type": "code",
      "source": [
        "y_pred = regressor(x)\n",
        "\n",
        "plt.scatter(x.cpu(), y.cpu())\n",
        "plt.plot(x.cpu(), y_pred.detach().cpu(), color='r')"
      ],
      "metadata": {
        "id": "DOm3UtkEfRQL"
      },
      "execution_count": null,
      "outputs": []
    },
    {
      "cell_type": "code",
      "source": [
        "print(f'Weight: {regressor.linear.weight.item()}')\n",
        "print(f'Bias: {regressor.linear.bias.item()}')"
      ],
      "metadata": {
        "id": "ukKdc70dkV4-"
      },
      "execution_count": null,
      "outputs": []
    },
    {
      "cell_type": "markdown",
      "source": [
        "---"
      ],
      "metadata": {
        "id": "-rjOvGu8nTi-"
      }
    },
    {
      "cell_type": "markdown",
      "source": [
        "# Whats Next?\n",
        "\n",
        "Now that we have demonstrated linear regression, think about even complex functions which can be used to fit the distribution. Here is something to help you out.\n",
        "\n",
        "- [Polynomial Regression](https://towardsdatascience.com/polynomial-regression-bbe8b9d97491)\n",
        "- [Activation Functions](https://towardsdatascience.com/activation-functions-neural-networks-1cbd9f8d91d6)\n",
        "\n",
        "What else?\n",
        "\n",
        "- [Logistic Regression](https://towardsdatascience.com/logistic-regression-detailed-overview-46c4da4303bc)\n",
        "\n",
        "To know about optimizers and how they work\n",
        "\n",
        "- [Optimizers](https://towardsdatascience.com/optimizers-for-training-neural-network-59450d71caf6)"
      ],
      "metadata": {
        "id": "XTgWU3FOM2Qf"
      }
    },
    {
      "cell_type": "markdown",
      "source": [
        "# Try it yourself\n",
        "\n",
        "We will put the solution on the repository after 3 days"
      ],
      "metadata": {
        "id": "nm0jFVgupmhq"
      }
    },
    {
      "cell_type": "code",
      "source": [
        "x = torch.linspace(0, 2*torch.pi, 100)\n",
        "\n",
        "weight = 0.2\n",
        "bias = -0.1\n",
        "\n",
        "noise = torch.sin(torch.rand((x.size()))) * 0.05\n",
        "\n",
        "y = weight * torch.sin(x) + bias + noise"
      ],
      "metadata": {
        "id": "Hts3T5kvnRdO"
      },
      "execution_count": null,
      "outputs": []
    },
    {
      "cell_type": "code",
      "source": [
        "plt.scatter(x.cpu(), y.cpu())"
      ],
      "metadata": {
        "id": "fmmesBBrnRdP"
      },
      "execution_count": null,
      "outputs": []
    },
    {
      "cell_type": "markdown",
      "source": [
        "## Result"
      ],
      "metadata": {
        "id": "ch5ardIxpsYY"
      }
    },
    {
      "cell_type": "markdown",
      "source": [
        "<center><h1 style=\"font-size:10vw\">Stay tuned for our upcoming sessions!</h1> </center>\n"
      ],
      "metadata": {
        "id": "OV5Y9sJ8pypM"
      }
    },
    {
      "cell_type": "code",
      "source": [
        ""
      ],
      "metadata": {
        "id": "f--ZVTDs6c3T"
      },
      "execution_count": null,
      "outputs": []
    }
  ]
}